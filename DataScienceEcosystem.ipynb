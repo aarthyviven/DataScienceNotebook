{
  "cells": [
    {
      "cell_type": "markdown",
      "id": "c976199a-bff4-4abb-8a54-1e39bf4d52ce",
      "metadata": {},
      "source": [
        "# Data Science Tools and Ecosystem"
      ]
    },
    {
      "cell_type": "markdown",
      "id": "4f6a9e95-a8d1-406d-a051-aa4c0b27d094",
      "metadata": {},
      "source": [
        "In this notebook, Data Science Tools and Ecosystem are summarized."
      ]
    },
    {
      "cell_type": "markdown",
      "id": "6cc4a260-8456-4908-b67c-f8d73e336ff0",
      "metadata": {},
      "source": [
        "**Objectives:**\n",
        "\n",
        "- List popular languages for Data Science\n",
        "- Understand commonly used libraries in Data Science\n",
        "- Learn how to evaluate arithmetic expressions in Python\n",
        "- Convert minutes to hours using Python"
      ]
    },
    {
      "cell_type": "markdown",
      "id": "8b76cfb2-9cb6-4155-a23a-393b885512f9",
      "metadata": {},
      "source": [
        "Some of the popular languages that Data Scientists use are:\n",
        "1. Python\n",
        "2. R\n",
        "3. SQL"
      ]
    },
    {
      "cell_type": "markdown",
      "id": "2c697685-41c8-4f2a-a4bb-3413c69bd4d7",
      "metadata": {},
      "source": [
        "Some of the commonly used libraries used by Data Scientists include:\n",
        "1. NumPy\n",
        "2. Pandas\n",
        "3. Matplotlib\n",
        "4. Scikit-learn\n",
        "5. TensorFlow"
      ]
    },
    {
      "cell_type": "markdown",
      "id": "576bd789-3252-4bfa-840f-fda16ba1511e",
      "metadata": {},
      "source": [
        "| Data Science Tools         |\n",
        "|----------------------------|\n",
        "| Jupyter Notebook           |\n",
        "| RStudio                    |\n",
        "| Apache Zeppelin            |\n"
      ]
    },
    {
      "cell_type": "markdown",
      "id": "de83a34b-e528-47e5-8773-74eaf2d49f9e",
      "metadata": {},
      "source": [
        "### Below are a few examples of evaluating arithmetic expressions in Python."
      ]
    },
    {
      "cell_type": "code",
      "execution_count": 1,
      "id": "d9008159-b3bd-40ba-aa36-6ac88f35f50d",
      "metadata": {
        "trusted": true
      },
      "outputs": [
        {
          "data": {
            "text/plain": [
              "17"
            ]
          },
          "execution_count": 1,
          "metadata": {},
          "output_type": "execute_result"
        }
      ],
      "source": [
        "# This is a simple arithmetic expression to multiply then add integers\n",
        "result = (3 * 4) + 5\n",
        "result"
      ]
    },
    {
      "cell_type": "code",
      "execution_count": 2,
      "id": "51d6da75-5982-4a6b-9912-d9208024aa95",
      "metadata": {
        "trusted": true
      },
      "outputs": [
        {
          "data": {
            "text/plain": [
              "3.3333333333333335"
            ]
          },
          "execution_count": 2,
          "metadata": {},
          "output_type": "execute_result"
        }
      ],
      "source": [
        "# This will convert 200 minutes to hours by dividing by 60\n",
        "minutes = 200\n",
        "hours = minutes / 60\n",
        "hours"
      ]
    },
    {
      "cell_type": "markdown",
      "id": "343c43df-e8b9-4538-8cca-351bf83097a0",
      "metadata": {},
      "source": [
        "## Author\n",
        "Shriaarthy E"
      ]
    },
    {
      "cell_type": "code",
      "execution_count": null,
      "id": "aebfcbd4-0061-491a-b83f-0b2d0cf93b02",
      "metadata": {
        "trusted": true
      },
      "outputs": [],
      "source": []
    }
  ],
  "metadata": {
    "kernelspec": {
      "display_name": "Python (Pyodide)",
      "language": "python",
      "name": "python"
    },
    "language_info": {
      "codemirror_mode": {
        "name": "python",
        "version": 3
      },
      "file_extension": ".py",
      "mimetype": "text/x-python",
      "name": "python",
      "nbconvert_exporter": "python",
      "pygments_lexer": "ipython3",
      "version": "3.8"
    }
  },
  "nbformat": 4,
  "nbformat_minor": 5
}
